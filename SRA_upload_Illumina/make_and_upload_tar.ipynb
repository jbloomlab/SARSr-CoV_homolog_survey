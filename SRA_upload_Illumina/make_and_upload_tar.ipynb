{
 "cells": [
  {
   "cell_type": "markdown",
   "metadata": {},
   "source": [
    "# Create TAR file of FASTQs and upload to SRA\n",
    "This Python Jupyter notebook creates a `*.tar` file of the FASTQs and uploads them to the SRA.\n",
    "\n",
    "First, import Python modules:"
   ]
  },
  {
   "cell_type": "code",
   "execution_count": 1,
   "metadata": {
    "execution": {
     "iopub.execute_input": "2021-03-15T22:53:01.248518Z",
     "iopub.status.busy": "2021-03-15T22:53:01.247736Z",
     "iopub.status.idle": "2021-03-15T22:53:02.765842Z",
     "shell.execute_reply": "2021-03-15T22:53:02.766267Z"
    }
   },
   "outputs": [],
   "source": [
    "import datetime\n",
    "import ftplib\n",
    "import os\n",
    "import tarfile\n",
    "\n",
    "import pandas as pd\n",
    "\n",
    "import yaml"
   ]
  },
  {
   "cell_type": "markdown",
   "metadata": {},
   "source": [
    "Read in the FASTQ files to upload:"
   ]
  },
  {
   "cell_type": "code",
   "execution_count": 2,
   "metadata": {
    "execution": {
     "iopub.execute_input": "2021-03-15T22:53:02.770750Z",
     "iopub.status.busy": "2021-03-15T22:53:02.770275Z",
     "iopub.status.idle": "2021-03-15T22:53:02.781768Z",
     "shell.execute_reply": "2021-03-15T22:53:02.782330Z"
    }
   },
   "outputs": [],
   "source": [
    "with open('upload_config.yaml') as f:\n",
    "    config = yaml.safe_load(f)\n",
    "    \n",
    "fastqs = pd.read_csv('FASTQs_to_upload.csv')"
   ]
  },
  {
   "cell_type": "markdown",
   "metadata": {},
   "source": [
    "Now we need to make a `*.tar` file with all of the files.\n",
    "Note that this step **will take a long time to run**."
   ]
  },
  {
   "cell_type": "code",
   "execution_count": 3,
   "metadata": {
    "execution": {
     "iopub.execute_input": "2021-03-15T22:53:02.786083Z",
     "iopub.status.busy": "2021-03-15T22:53:02.785287Z",
     "iopub.status.idle": "2021-03-15T22:53:17.818951Z",
     "shell.execute_reply": "2021-03-15T22:53:17.819798Z"
    }
   },
   "outputs": [
    {
     "name": "stdout",
     "output_type": "stream",
     "text": [
      "Adding file 1 of 19 to SRA_submission.tar\n",
      "Adding file 2 of 19 to SRA_submission.tar\n",
      "Adding file 3 of 19 to SRA_submission.tar\n",
      "Adding file 4 of 19 to SRA_submission.tar\n",
      "Adding file 5 of 19 to SRA_submission.tar\n",
      "Adding file 6 of 19 to SRA_submission.tar\n",
      "Adding file 7 of 19 to SRA_submission.tar\n",
      "Adding file 8 of 19 to SRA_submission.tar\n",
      "Adding file 9 of 19 to SRA_submission.tar\n",
      "Adding file 10 of 19 to SRA_submission.tar\n",
      "Adding file 11 of 19 to SRA_submission.tar\n",
      "Adding file 12 of 19 to SRA_submission.tar\n",
      "Adding file 13 of 19 to SRA_submission.tar\n",
      "Adding file 14 of 19 to SRA_submission.tar\n",
      "Adding file 15 of 19 to SRA_submission.tar\n",
      "Adding file 16 of 19 to SRA_submission.tar\n",
      "Adding file 17 of 19 to SRA_submission.tar\n",
      "Adding file 18 of 19 to SRA_submission.tar\n",
      "Adding file 19 of 19 to SRA_submission.tar\n",
      "Added all files to SRA_submission.tar\n"
     ]
    }
   ],
   "source": [
    "tar_filename = 'SRA_submission.tar'\n",
    "\n",
    "try:\n",
    "    with tarfile.open(tar_filename, mode='w') as f:\n",
    "        for i, tup in enumerate(fastqs.itertuples()):\n",
    "            print(f\"Adding file {i + 1} of {len(fastqs)} to {tar_filename}\")\n",
    "            f.add(tup.filename_fullpath, arcname=tup.filename)\n",
    "        print(f\"Added all files to {tar_filename}\")\n",
    "except:\n",
    "    if os.path.isfile(tar_filename):\n",
    "        os.remove(tar_filename)\n",
    "    raise"
   ]
  },
  {
   "cell_type": "markdown",
   "metadata": {},
   "source": [
    "See the size of the `*.tar` file to upload and make sure it has the expected files:"
   ]
  },
  {
   "cell_type": "code",
   "execution_count": 4,
   "metadata": {
    "execution": {
     "iopub.execute_input": "2021-03-15T22:53:17.824686Z",
     "iopub.status.busy": "2021-03-15T22:53:17.823497Z",
     "iopub.status.idle": "2021-03-15T22:53:17.838416Z",
     "shell.execute_reply": "2021-03-15T22:53:17.839035Z"
    }
   },
   "outputs": [
    {
     "name": "stdout",
     "output_type": "stream",
     "text": [
      "The size of SRA_submission.tar is 1.2 GB\n",
      "SRA_submission.tar contains all 19 expected files.\n"
     ]
    }
   ],
   "source": [
    "print(f\"The size of {tar_filename} is {os.path.getsize(tar_filename) / 1e9:.1f} GB\")\n",
    "\n",
    "with tarfile.open(tar_filename) as f:\n",
    "    files_in_tar = set(f.getnames())\n",
    "if files_in_tar == set(fastqs['filename']):\n",
    "    print(f\"{tar_filename} contains all {len(files_in_tar)} expected files.\")\n",
    "else:\n",
    "    raise ValueError(f\"{tar_filename} does not have all the expected files.\")"
   ]
  },
  {
   "cell_type": "markdown",
   "metadata": {},
   "source": [
    "We now read in the details about doing the FTP upload to the SRA.\n",
    "Note that these are set in separate files already:"
   ]
  },
  {
   "cell_type": "code",
   "execution_count": 5,
   "metadata": {
    "execution": {
     "iopub.execute_input": "2021-03-15T22:53:17.842225Z",
     "iopub.status.busy": "2021-03-15T22:53:17.841339Z",
     "iopub.status.idle": "2021-03-15T22:53:17.848099Z",
     "shell.execute_reply": "2021-03-15T22:53:17.848701Z"
    }
   },
   "outputs": [],
   "source": [
    "# the following are provided by SRA wizard insturctions\n",
    "ftp_address = 'ftp-private.ncbi.nlm.nih.gov'\n",
    "ftp_username = config['ftp_username'].strip()\n",
    "ftp_account_folder = config['ftp_account_folder'].strip()\n",
    "ftp_subfolder = config['ftp_subfolder'].strip()\n",
    "with open('ftp_password.txt') as f:\n",
    "    ftp_password = f.read().strip()"
   ]
  },
  {
   "cell_type": "markdown",
   "metadata": {},
   "source": [
    "Now create FTP connection and upload the TAR file.\n",
    "Note that this takes a while.\n",
    "If you are worried that it will timeout given the size of your file, you can run this notebook via `slurm` so there is no timing out:"
   ]
  },
  {
   "cell_type": "code",
   "execution_count": 6,
   "metadata": {
    "execution": {
     "iopub.execute_input": "2021-03-15T22:53:17.851760Z",
     "iopub.status.busy": "2021-03-15T22:53:17.850870Z",
     "iopub.status.idle": "2021-03-15T22:54:20.299729Z",
     "shell.execute_reply": "2021-03-15T22:54:20.300558Z"
    }
   },
   "outputs": [
    {
     "name": "stdout",
     "output_type": "stream",
     "text": [
      "Starting upload at 2021-03-15 15:53:17.853473\n",
      "Finished upload at 2021-03-15 15:54:20.291761\n"
     ]
    }
   ],
   "source": [
    "print(f\"Starting upload at {datetime.datetime.now()}\")\n",
    "\n",
    "with ftplib.FTP(ftp_address) as ftp:\n",
    "    ftp.login(user=ftp_username,\n",
    "              passwd=ftp_password,\n",
    "              )\n",
    "    ftp.cwd(ftp_account_folder)\n",
    "    ftp.mkd(ftp_subfolder)\n",
    "    ftp.cwd(ftp_subfolder)\n",
    "    with open(tar_filename, 'rb') as f:\n",
    "        ftp.storbinary(f\"STOR {tar_filename}\", f)\n",
    "        \n",
    "print(f\"Finished upload at {datetime.datetime.now()}\")"
   ]
  },
  {
   "cell_type": "code",
   "execution_count": null,
   "metadata": {},
   "outputs": [],
   "source": []
  }
 ],
 "metadata": {
  "kernelspec": {
   "display_name": "Python 3",
   "language": "python",
   "name": "python3"
  },
  "language_info": {
   "codemirror_mode": {
    "name": "ipython",
    "version": 3
   },
   "file_extension": ".py",
   "mimetype": "text/x-python",
   "name": "python",
   "nbconvert_exporter": "python",
   "pygments_lexer": "ipython3",
   "version": "3.7.8"
  }
 },
 "nbformat": 4,
 "nbformat_minor": 4
}
